{
 "cells": [
  {
   "cell_type": "markdown",
   "metadata": {},
   "source": [
    " Calculate the mean, median, mode and standard deviation for the problem statements 1& 2.\n",
    " \n",
    "## **Problem Statement 1:**\n",
    "\n",
    " The marks awarded for an assignment set for a Year 8 class of 20 students were as follows:\n",
    "    \n",
    "6 7 5 7 7 8 7 6 9 7 4 10 6 8 8 9 5 6 4 8"
   ]
  },
  {
   "cell_type": "code",
   "execution_count": 1,
   "metadata": {},
   "outputs": [],
   "source": [
    "x='6 7 5 7 7 8 7 6 9 7 4 10 6 8 8 9 5 6 4 8'"
   ]
  },
  {
   "cell_type": "code",
   "execution_count": 2,
   "metadata": {},
   "outputs": [],
   "source": [
    "def Mean(lst):\n",
    "    if type(lst)==list:\n",
    "        sum=0\n",
    "        for i in lst:\n",
    "            sum+=i\n",
    "        print(\"Mean=\",sum/len(lst))\n",
    "    elif type(lst)==str:\n",
    "        nlist=[]\n",
    "        for i in lst.split(\" \"):\n",
    "            nlist.append(int(i))\n",
    "        sum=0\n",
    "        for i in nlist:\n",
    "            sum+=i\n",
    "        print(\"Mean=\",sum/len(nlist))\n",
    "    else:\n",
    "        print(\"please give input in list or str format\")"
   ]
  },
  {
   "cell_type": "code",
   "execution_count": 3,
   "metadata": {},
   "outputs": [],
   "source": [
    "def Median(lst):\n",
    "    if type(lst)==list:\n",
    "        lst.sort()\n",
    "        if len(lst)%2==0:\n",
    "            median=(lst[int(len(lst)/2)-1]+lst[int(len(lst)/2)+1])/2\n",
    "            print(\"Median=\",median)\n",
    "        else:\n",
    "            median=lst[int(len(lst)/2)+1]+1\n",
    "            print(\"Median=\",median)\n",
    "    elif type(lst)==str:\n",
    "        nlist=[]\n",
    "        for i in lst.split(\" \"):\n",
    "            nlist.append(int(i))\n",
    "        nlist.sort()\n",
    "        if len(nlist)%2==0:\n",
    "            median=(nlist[int(len(nlist)/2)-1]+nlist[int(len(nlist)/2)+1])/2\n",
    "            print(\"Median=\",median)\n",
    "        else:\n",
    "            median=nlist[int(len(nlist)/2)+1]+1\n",
    "            print(\"Median=\",median)\n",
    "    else:\n",
    "        return(\"please give input in list or str format\")"
   ]
  },
  {
   "cell_type": "code",
   "execution_count": 4,
   "metadata": {},
   "outputs": [],
   "source": [
    "def Mode(lst):\n",
    "    if type(lst)==list:\n",
    "        n=0\n",
    "        for i in lst:\n",
    "            if lst.count(i)>n:\n",
    "                mode=i\n",
    "                n=int(lst.count(i))\n",
    "        print(\"Mode=\",mode)\n",
    "    elif type(lst)==str:\n",
    "        nlist=[]\n",
    "        for i in lst.split(\" \"):\n",
    "            nlist.append(int(i))\n",
    "        n=0\n",
    "        for i in nlist:\n",
    "            if nlist.count(i)>n:\n",
    "                mode=i\n",
    "                n=nlist.count(i)\n",
    "        print(\"Mode=\",mode)\n",
    "    else:\n",
    "        return(\"please give input in list or str format\")"
   ]
  },
  {
   "cell_type": "code",
   "execution_count": 5,
   "metadata": {},
   "outputs": [],
   "source": [
    "def STD_Deviation(lst):\n",
    "    if type(lst)==list:\n",
    "        sum=0\n",
    "        for i in lst:\n",
    "            sum+=i\n",
    "        deviation=0\n",
    "        for i in lst:\n",
    "            deviation=deviation+(i-sum/len(lst))**2\n",
    "        print(\"STD_Deviation=\",(deviation/len(lst))**(1/2))\n",
    "    elif type(lst)==str:\n",
    "        nlist=[]\n",
    "        for i in lst.split(\" \"):\n",
    "            nlist.append(int(i))\n",
    "        sum=0\n",
    "        for i in nlist:\n",
    "            sum+=i\n",
    "        deviation=0\n",
    "        for i in nlist:\n",
    "            deviation=deviation+(i-sum/len(nlist))**2\n",
    "        print(\"STD_Deviation=\",(deviation/len(nlist))**(1/2))\n",
    "    else:\n",
    "        return(\"please give input in list or str format\")"
   ]
  },
  {
   "cell_type": "code",
   "execution_count": 6,
   "metadata": {},
   "outputs": [
    {
     "name": "stdout",
     "output_type": "stream",
     "text": [
      "Mean= 6.85\n",
      "Median= 7.0\n",
      "Mode= 7\n",
      "STD_Deviation= 1.5898113095584647\n"
     ]
    }
   ],
   "source": [
    "Mean(x)\n",
    "Median(x)\n",
    "Mode(x)\n",
    "STD_Deviation(x)"
   ]
  },
  {
   "cell_type": "code",
   "execution_count": 7,
   "metadata": {},
   "outputs": [
    {
     "name": "stdout",
     "output_type": "stream",
     "text": [
      "Mean= 6.85\n",
      "Median= 7.0\n",
      "Mode=ModeResult(mode=array([7]), count=array([5]))\n",
      "STD_Deviation= 1.59\n",
      "Variance= 2.53\n"
     ]
    }
   ],
   "source": [
    "import numpy as np\n",
    "from scipy import stats\n",
    "nlist=[]\n",
    "for i in x.split(\" \"):\n",
    "    nlist.append(int(i))\n",
    "    \n",
    "print(\"Mean=\",round(np.mean(nlist),2))\n",
    "print(\"Median=\",round(np.median(nlist),2))\n",
    "print(\"Mode={}\".format(stats.mode(nlist)))\n",
    "print(\"STD_Deviation=\",round(np.std(nlist),2))\n",
    "print(\"Variance=\",round(np.var(nlist),2))     \n",
    "       "
   ]
  },
  {
   "cell_type": "markdown",
   "metadata": {},
   "source": [
    "## **Problem Statement 2:**\n",
    "\n",
    " The number of calls from motorists per day for roadside service was recorded for a particular month:\n",
    "        \n",
    "28, 122, 217, 130, 120, 86, 80, 90, 140, 120, 70, 40, 145, 113, 90, 68, 174, 194, 170, 100, 75, 104, 97, 75, 123, 100, 75, 104, 97, 75, 123, 100, 89, 120, 109"
   ]
  },
  {
   "cell_type": "code",
   "execution_count": 8,
   "metadata": {},
   "outputs": [],
   "source": [
    "calls=[28, 122, 217, 130, 120, 86, 80, 90, 140, 120, 70, 40, 145, 113, 90, 68, 174, 194, 170, 100, 75, 104, 97, 75, 123, 100, 75, 104, 97, 75, 123, 100, 89, 120, 109]"
   ]
  },
  {
   "cell_type": "code",
   "execution_count": 9,
   "metadata": {},
   "outputs": [
    {
     "name": "stdout",
     "output_type": "stream",
     "text": [
      "Mean= 107.51428571428572\n",
      "Median= 105\n",
      "Mode= 75\n",
      "STD_Deviation= 38.77287080168403\n"
     ]
    }
   ],
   "source": [
    "Mean(calls)\n",
    "Median(calls)\n",
    "Mode(calls)\n",
    "STD_Deviation(calls)"
   ]
  },
  {
   "cell_type": "markdown",
   "metadata": {},
   "source": [
    "## ***Problem Statement 3:***\n",
    "The number of times I go to the gym in weekdays, are given below along with its associated probability:\n",
    "\n",
    "x = 0, 1, 2, 3, 4, 5\n",
    "\n",
    "f(x) = 0.09, 0.15, 0.40, 0.25, 0.10, 0.01\n",
    "\n",
    "Calculate the mean no. of workouts in a week. Also evaluate the variance involved in it."
   ]
  },
  {
   "cell_type": "code",
   "execution_count": 10,
   "metadata": {},
   "outputs": [],
   "source": [
    "x = [0, 1, 2, 3, 4, 5]\n",
    "f_x = [0.09, 0.15, 0.40, 0.25, 0.10, 0.01]"
   ]
  },
  {
   "cell_type": "code",
   "execution_count": 11,
   "metadata": {},
   "outputs": [
    {
     "name": "stdout",
     "output_type": "stream",
     "text": [
      "Mean workout in a week:  0.35833333333333334\n",
      "Variance:  0.10284722222222224\n"
     ]
    }
   ],
   "source": [
    "# import libraries\n",
    "import numpy as np\n",
    "from scipy import stats\n",
    "\n",
    "# Total No. of workout in week\n",
    "Total =[]\n",
    "for i in x:\n",
    "    for j in f_x:\n",
    "        if x.index(i)==f_x.index(j):\n",
    "            Total.append(i*j)\n",
    "        else:\n",
    "            pass\n",
    "Total_sum = 0\n",
    "for i in Total:\n",
    "    Total_sum+=i\n",
    "print(\"Mean workout in a week: \", Total_sum/len(x))\n",
    "print('Variance: ', np.var(Total))"
   ]
  },
  {
   "cell_type": "code",
   "execution_count": 12,
   "metadata": {},
   "outputs": [],
   "source": [
    "import numpy as np\n",
    "from scipy import stats\n",
    "vr = np.var(x)"
   ]
  },
  {
   "cell_type": "markdown",
   "metadata": {},
   "source": [
    "## Problem Statement 4:\n",
    "Let the continuous random variable D denote the diameter of the hole drilled in an\n",
    "aluminum sheet. The target diameter to be achieved is 12.5mm. Random\n",
    "disturbances in the process often result in inaccuracy.\n",
    "Historical data shows that the distribution of D can be modelled by the PDF (𝑑) =\n",
    "20𝑒−20(𝑑−12.5), 𝑑 ≥ 12.5. If a part with diameter > 12.6 mm needs to be scrapped,\n",
    "what is the proportion of those parts? What is the CDF when the diameter is of 11\n",
    "mm? What is your conclusion regarding the proportion of scraps?"
   ]
  },
  {
   "cell_type": "code",
   "execution_count": 13,
   "metadata": {},
   "outputs": [],
   "source": [
    "def prob_den_fun(d):\n",
    "    return (20*np.exp(-20*(d-12.5)))"
   ]
  },
  {
   "cell_type": "code",
   "execution_count": 14,
   "metadata": {},
   "outputs": [
    {
     "data": {
      "text/plain": [
       "440529.31589613436"
      ]
     },
     "execution_count": 14,
     "metadata": {},
     "output_type": "execute_result"
    }
   ],
   "source": [
    "prob_den_fun(12)"
   ]
  },
  {
   "cell_type": "code",
   "execution_count": 15,
   "metadata": {},
   "outputs": [
    {
     "data": {
      "text/plain": [
       "<Figure size 640x480 with 1 Axes>"
      ]
     },
     "metadata": {},
     "output_type": "display_data"
    }
   ],
   "source": [
    "import numpy as np\n",
    "from matplotlib import pyplot as plt\n",
    "import scipy\n",
    "\n",
    "def prob_den_fun(d):\n",
    "    return (20*np.exp(-20*(d-12.5)))\n",
    "\n",
    "def cum_dst_fun(d):\n",
    "    return (1-np.exp(-20*(d-12.5)))\n",
    "\n",
    "x = np.arange(11, 13,0.01)\n",
    "p = prob_den_fun(x)\n",
    "plt.plot(x, p)\n",
    "plt.show()"
   ]
  },
  {
   "cell_type": "code",
   "execution_count": 16,
   "metadata": {},
   "outputs": [
    {
     "data": {
      "text/plain": [
       "-10686474581523.463"
      ]
     },
     "execution_count": 16,
     "metadata": {},
     "output_type": "execute_result"
    }
   ],
   "source": [
    "cum_dst_fun(11)"
   ]
  },
  {
   "cell_type": "code",
   "execution_count": 17,
   "metadata": {},
   "outputs": [
    {
     "data": {
      "image/png": "[encoded data removed]",
      "text/plain": [
       "<Figure size 432x288 with 1 Axes>"
      ]
     },
     "metadata": {
      "needs_background": "light"
     },
     "output_type": "display_data"
    }
   ],
   "source": [
    "x = np.arange(11, 13,0.01)\n",
    "p = cum_dst_fun(x)\n",
    "plt.plot(x, p)\n",
    "plt.show()"
   ]
  },
  {
   "cell_type": "markdown",
   "metadata": {},
   "source": [
    "## Problem Statement 5:\n",
    "A company manufactures LED bulbs with a faulty rate of 30%. If I randomly select 6\n",
    "chosen LEDs, what is the probability of having 2 faulty LEDs in my sample?\n",
    "Calculate the average value of this process. Also evaluate the standard deviation\n",
    "associated with it."
   ]
  },
  {
   "cell_type": "code",
   "execution_count": 24,
   "metadata": {},
   "outputs": [],
   "source": [
    "# To find factorial\n",
    "def fac(n):\n",
    "    return 1 if (n==1 or n==0) else n * fac(n - 1);"
   ]
  },
  {
   "cell_type": "code",
   "execution_count": 25,
   "metadata": {},
   "outputs": [],
   "source": [
    "def Bion_Prob(p,n,x):\n",
    "    prob = (fac(n)/(fac(x)*fac(n-x)))*(p**x)*(1-p)**(n-x)\n",
    "    return prob\n"
   ]
  },
  {
   "cell_type": "code",
   "execution_count": 26,
   "metadata": {},
   "outputs": [
    {
     "name": "stdout",
     "output_type": "stream",
     "text": [
      "The probability of having 2 faulty LEDs in selected sample is : 0.32\n",
      "The average value of this process is : 1.8\n",
      "The standard deviation is : 1.12\n"
     ]
    }
   ],
   "source": [
    "p = 0.3\n",
    "n = 6\n",
    "x = 2\n",
    "print('The probability of having 2 faulty LEDs in selected sample is :',round(Bion_Prob(p,n,x),2))\n",
    "print('The average value of this process is :',round(n*p,2))\n",
    "print('The standard deviation is :',round(np.sqrt(n*p*(1-p)),2))"
   ]
  },
  {
   "cell_type": "markdown",
   "metadata": {},
   "source": [
    "## Problem Statement 6:\n",
    "Gaurav and Barakha are both preparing for entrance exams. Gaurav attempts to\n",
    "solve 8 questions per day with a correction rate of 75%, while Barakha averages\n",
    "around 12 questions per day with a correction rate of 45%. What is the probability\n",
    "that each of them will solve 5 questions correctly? What happens in cases of 4 and 6\n",
    "correct solutions? What do you infer from it? What are the two main governing\n",
    "factors affecting their ability to solve questions correctly? Give a pictorial\n",
    "representation of the same to validate your answer."
   ]
  },
  {
   "cell_type": "code",
   "execution_count": 52,
   "metadata": {},
   "outputs": [
    {
     "name": "stdout",
     "output_type": "stream",
     "text": [
      "The Probability of solving 5 questions correctly \n",
      " for Gaurav is:0.2076416015625 \n",
      " for Barkha is :0.22249823843265837\n",
      "\n",
      "\n",
      "The Probability of solving 4 questions correctly \n",
      " for Gaurav is:0.086517333984375 \n",
      " for Barkha is :0.16996393213605848\n",
      "\n",
      "\n",
      "The Probability of solving 6 questions correctly \n",
      " for Gaurav is:0.31146240234375 \n",
      " for Barkha is :0.2123846821402648\n"
     ]
    }
   ],
   "source": [
    "print('The Probability of solving 5 questions correctly \\n for Gaurav is:{} \\n for Barkha is :{}'.format(Bion_Prob(0.75,8,5),Bion_Prob(0.45,12,5)))\n",
    "print(\"\\n\")\n",
    "print('The Probability of solving 4 questions correctly \\n for Gaurav is:{} \\n for Barkha is :{}'.format(Bion_Prob(0.75,8,4),Bion_Prob(0.45,12,4)))\n",
    "print(\"\\n\")\n",
    "print('The Probability of solving 6 questions correctly \\n for Gaurav is:{} \\n for Barkha is :{}'.format(Bion_Prob(0.75,8,6),Bion_Prob(0.45,12,6)))"
   ]
  },
  {
   "cell_type": "code",
   "execution_count": null,
   "metadata": {},
   "outputs": [],
   "source": []
  },
  {
   "cell_type": "code",
   "execution_count": null,
   "metadata": {},
   "outputs": [],
   "source": []
  }
 ],
 "metadata": {
  "kernelspec": {
   "display_name": "Python 3",
   "language": "python",
   "name": "python3"
  },
  "language_info": {
   "codemirror_mode": {
    "name": "ipython",
    "version": 3
   },
   "file_extension": ".py",
   "mimetype": "text/x-python",
   "name": "python",
   "nbconvert_exporter": "python",
   "pygments_lexer": "ipython3",
   "version": "3.7.1"
  }
 },
 "nbformat": 4,
 "nbformat_minor": 2
}
